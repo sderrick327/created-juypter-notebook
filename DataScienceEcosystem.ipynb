{
 "cells": [
  {
   "cell_type": "markdown",
   "id": "192087d0-f16a-416b-9a8c-f3f0041d5934",
   "metadata": {},
   "source": [
    "# Data Science Tools and Ecosystem"
   ]
  },
  {
   "cell_type": "markdown",
   "id": "3ed07fa7-bdb1-4a01-988a-4ceb3644eaa8",
   "metadata": {},
   "source": [
    "In this notebook, Data Science Tools and Ecosystem are summarized.\n"
   ]
  },
  {
   "cell_type": "markdown",
   "id": "326ab00c-49ed-45bc-ab6d-1ee68ef7d5ff",
   "metadata": {},
   "source": [
    "**Objective**\n",
    "- List popular languages in data science\n",
    "- Create cell with a table of data science tools\n",
    "- Create a cell to list data science libraries"
   ]
  },
  {
   "cell_type": "markdown",
   "id": "436068f5-3c01-4e00-824c-35c23281efe4",
   "metadata": {},
   "source": [
    "Some of the popular languages that Data Scientists use are:\n",
    "1. Python\n",
    "2. R\n",
    "3. SQL\n",
    "4. Java\n",
    "    "
   ]
  },
  {
   "cell_type": "markdown",
   "id": "38e97374-5eec-4521-8924-f7fd926973fb",
   "metadata": {},
   "source": [
    "Some of the commonly used libraries used by Data Scientists include:\n",
    "1. Panda\n",
    "2. Numpy\n",
    "3. Seaborn\n",
    "4. Scikit\n",
    "5. Keras"
   ]
  },
  {
   "cell_type": "markdown",
   "id": "9e01b8c0-5c99-4cb3-b10b-337d7fb9b5bb",
   "metadata": {},
   "source": [
    "|Data Science Tools|\n",
    "|------------------|\n",
    "|VS Code|\n",
    "|Gitlab|\n",
    "|Vercel|\n"
   ]
  },
  {
   "cell_type": "markdown",
   "id": "92f51735-d876-4ca5-b74d-2b1ac0ed073f",
   "metadata": {},
   "source": [
    "### Below are a few examples of evaluating arithmetic expressions in Python.\n"
   ]
  },
  {
   "cell_type": "code",
   "execution_count": 4,
   "id": "2cff08a2-2b6d-45eb-815d-41511decbc15",
   "metadata": {},
   "outputs": [
    {
     "data": {
      "text/plain": [
       "17"
      ]
     },
     "execution_count": 4,
     "metadata": {},
     "output_type": "execute_result"
    }
   ],
   "source": [
    "#This a simple expression to mutiply then add integers\n",
    "(3*4)+5"
   ]
  },
  {
   "cell_type": "code",
   "execution_count": 5,
   "id": "c1cdbaa8-d33e-42c1-969a-572bf8543de8",
   "metadata": {},
   "outputs": [
    {
     "data": {
      "text/plain": [
       "3.3333333333333335"
      ]
     },
     "execution_count": 5,
     "metadata": {},
     "output_type": "execute_result"
    }
   ],
   "source": [
    "#This will convert 200 minutes to hours by diving by 60\n",
    "200/60"
   ]
  },
  {
   "cell_type": "markdown",
   "id": "26ae5c1d-ccf0-4ff6-9aa7-dbe607b38fcf",
   "metadata": {},
   "source": [
    "## Author\n",
    "Derrick Smith\n"
   ]
  },
  {
   "cell_type": "code",
   "execution_count": null,
   "id": "8e85e578-8115-4384-967b-de8bee94e65b",
   "metadata": {},
   "outputs": [],
   "source": []
  }
 ],
 "metadata": {
  "kernelspec": {
   "display_name": "Python 3 (ipykernel)",
   "language": "python",
   "name": "python3"
  },
  "language_info": {
   "codemirror_mode": {
    "name": "ipython",
    "version": 3
   },
   "file_extension": ".py",
   "mimetype": "text/x-python",
   "name": "python",
   "nbconvert_exporter": "python",
   "pygments_lexer": "ipython3",
   "version": "3.10.9"
  }
 },
 "nbformat": 4,
 "nbformat_minor": 5
}
